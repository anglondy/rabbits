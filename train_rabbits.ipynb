{
  "nbformat": 4,
  "nbformat_minor": 0,
  "metadata": {
    "colab": {
      "name": "train_rabbits.ipynb",
      "provenance": [],
      "collapsed_sections": []
    },
    "kernelspec": {
      "name": "python3",
      "display_name": "Python 3"
    },
    "language_info": {
      "name": "python"
    },
    "accelerator": "GPU"
  },
  "cells": [
    {
      "cell_type": "code",
      "metadata": {
        "id": "YDxx7lPoX0Ft"
      },
      "source": [
        "import cv2\n",
        "import matplotlib.pyplot as plt\n",
        "import pandas as pd\n",
        "import os\n",
        "import tensorflow as tf\n",
        "import numpy as np\n",
        "import time"
      ],
      "execution_count": null,
      "outputs": []
    },
    {
      "cell_type": "code",
      "metadata": {
        "id": "hWRYAYZ_X_i3"
      },
      "source": [
        "TRAIN_PATH = '/content/drive/MyDrive/rabbits/train'\n",
        "TEST_PATH = '/content/drive/MyDrive/rabbits/test'\n",
        "VAL_PATH = '/content/drive/MyDrive/rabbits/valid'"
      ],
      "execution_count": null,
      "outputs": []
    },
    {
      "cell_type": "code",
      "metadata": {
        "id": "HfXV1lWsYBTP"
      },
      "source": [
        "cv2.setUseOptimized(True)\n",
        "cv2.setNumThreads(4)"
      ],
      "execution_count": null,
      "outputs": []
    },
    {
      "cell_type": "code",
      "metadata": {
        "id": "zqolnll1YcJ9"
      },
      "source": [
        "def get_image(path):\n",
        "    image = tf.io.read_file(path)\n",
        "    image = tf.io.decode_jpeg(image, channels=3)\n",
        "    return image.numpy()\n",
        "\n",
        "\n",
        "def get_labels(path):\n",
        "    df = pd.read_csv(os.path.join(path, '_annotations.csv'))\n",
        "    labels = []\n",
        "    images = []\n",
        "    names = []\n",
        "    \n",
        "    for i in range(df.shape[0]):\n",
        "        line = df.iloc[i].to_numpy()\n",
        "        if line[0] in names:\n",
        "            labels[-1].append(line[-4:])\n",
        "            continue\n",
        "        labels.append([line[-4:]])\n",
        "        images.append(get_image(os.path.join(path, line[0])))\n",
        "        names.append(line[0])\n",
        "\n",
        "\n",
        "def unison_shuffled_copies(list_a, list_b):\n",
        "    random_permutation = np.random.permutation(len(list_a))\n",
        "    return list_a[random_permutation], list_b[random_permutation]\n",
        "\n",
        "\n",
        "def iou(box1, box2):\n",
        "    # box1 contains [min_x, min_y, max_x, max_y]\n",
        "    # box2 contains [min_x, min_y, height, width]\n",
        "\n",
        "    xmin = max(box1[1], box2[1])\n",
        "    ymin = max(box1[0], box2[0])\n",
        "    xmax = min(box1[3], box2[3] + box2[1])\n",
        "    ymax = min(box1[2], box2[2] + box2[0])\n",
        "    \n",
        "    intersection = (xmax - xmin) * (ymax - ymin)\n",
        "    union = (box1[3] - box1[1]) * (box1[2] - box1[0]) + box2[3] * box2[2] - intersection\n",
        "    return max(0, intersection / union)\n",
        "\n",
        "\n",
        "def get_proper_sets(x, y, target_shape=(224, 224)):\n",
        "    negative_set = []\n",
        "    positive_set = []\n",
        "    max_height, max_width = x.shape[1:3]\n",
        "\n",
        "    for counter, image in enumerate(x):\n",
        "        boxes = y[counter]\n",
        "        \n",
        "        width = np.random.randint(50, target_shape[1])\n",
        "        height = np.random.randint(50, target_shape[0])\n",
        "        \n",
        "        end_status = False\n",
        "        for j in range(20):\n",
        "            ix = np.random.randint(0, max_width - width)\n",
        "            iy = np.random.randint(0, max_height - height)\n",
        "            \n",
        "            for num, box in enumerate(boxes):\n",
        "                if iou(box, [iy, ix, height, width]) < 0.2:\n",
        "                    if num == len(boxes) - 1:\n",
        "                        end_status = True\n",
        "                else:\n",
        "                    break\n",
        "            \n",
        "            if end_status:\n",
        "                break\n",
        "        \n",
        "        if not end_status:\n",
        "            continue\n",
        "\n",
        "        matr = image[iy:iy+height, ix:ix+width]\n",
        "        negative_set.append(tf.image.resize(matr, target_shape).numpy())\n",
        "\n",
        "        box = boxes[0]\n",
        "        rect = image[box[1]:box[3], box[0]:box[2]]\n",
        "        rect = tf.image.resize(rect, target_shape).numpy()\n",
        "        positive_set.append(rect)\n",
        "    \n",
        "    positive_set, negative_set = np.array(positive_set), np.array(negative_set)\n",
        "\n",
        "    set_x = np.vstack((positive_set, negative_set))\n",
        "    set_y = np.concatenate([np.ones((positive_set.shape[0],)), np.zeros((negative_set.shape[0],))])\n",
        "    set_x, set_y = unison_shuffled_copies(set_x, set_y)\n",
        "\n",
        "    set_x = (set_x / 255).astype(np.float32)\n",
        "    return set_x, set_y"
      ],
      "execution_count": null,
      "outputs": []
    },
    {
      "cell_type": "code",
      "metadata": {
        "id": "RFVCF2ONFYoK"
      },
      "source": [
        "train_x, train_y = get_labels(TRAIN_PATH)\n",
        "val_x, val_y = get_labels(VAL_PATH)\n",
        "\n",
        "proper_train_x, proper_train_y = get_proper_sets(train_x, train_y)\n",
        "proper_val_x, proper_val_y = get_proper_sets(val_x, val_y)"
      ],
      "execution_count": null,
      "outputs": []
    },
    {
      "cell_type": "code",
      "metadata": {
        "id": "qxwXtQQoF1la"
      },
      "source": [
        "vgg_layers = tf.keras.applications.VGG19(include_top=False, weights='imagenet', input_shape=(224, 224, 3))\n",
        "vgg_layers.trainable = False"
      ],
      "execution_count": null,
      "outputs": []
    },
    {
      "cell_type": "code",
      "metadata": {
        "id": "B7zd3LnXGser"
      },
      "source": [
        "flat = tf.keras.layers.Flatten()(vgg_layers.output)\n",
        "\n",
        "dense1 = tf.keras.layers.Dense(128, activation='relu')(flat)\n",
        "dense2 = tf.keras.layers.Dense(1, activation='sigmoid')(dense1)\n",
        "\n",
        "model_vgg = tf.keras.Model(inputs=vgg_layers.input, outputs=dense2)\n",
        "\n",
        "model_vgg.compile(optimizer=tf.keras.optimizers.Adam(learning_rate=2e-3), loss='binary_crossentropy', metrics=['acc'])\n",
        "model_vgg.summary()"
      ],
      "execution_count": null,
      "outputs": []
    },
    {
      "cell_type": "code",
      "metadata": {
        "id": "wZucp3_ZG0Z4"
      },
      "source": [
        "model_vgg.fit(proper_train_x, proper_train_y, epochs=2, validation_data=(proper_val_x, proper_val_y))"
      ],
      "execution_count": null,
      "outputs": []
    },
    {
      "cell_type": "code",
      "metadata": {
        "id": "gAVK4X6ONzZ-"
      },
      "source": [
        "model_vgg.save('/content/drive/MyDrive/model_vgg.h5')"
      ],
      "execution_count": null,
      "outputs": []
    },
    {
      "cell_type": "code",
      "metadata": {
        "id": "NaaRQhhYSYv6"
      },
      "source": [
        ""
      ],
      "execution_count": null,
      "outputs": []
    }
  ]
}